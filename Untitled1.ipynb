{
 "cells": [
  {
   "cell_type": "markdown",
   "metadata": {},
   "source": [
    "# Grunnstoffer og Bindingstyper\n"
   ]
  },
  {
   "cell_type": "markdown",
   "metadata": {},
   "source": [
    "## Oppgave 1\n",
    "\n",
    "a) Jeg starter med å lage en klasse for grunnstoffene med klassevariablene gitt i oppgaven\n"
   ]
  },
  {
   "cell_type": "code",
   "execution_count": 14,
   "metadata": {},
   "outputs": [],
   "source": [
    "class Grunnstoff():\n",
    "    def __init__(self, a_num, sym, navn, masse, el_neg):\n",
    "        self.a_num = a_num\n",
    "        self.sym = sym\n",
    "        self.navn = navn\n",
    "        self.masse = masse\n",
    "        self.el_neg = el_neg\n",
    "        "
   ]
  },
  {
   "cell_type": "markdown",
   "metadata": {},
   "source": [
    "b) Så legger jeg til ulike grunnstoff som instanser av klassen "
   ]
  },
  {
   "cell_type": "code",
   "execution_count": 15,
   "metadata": {},
   "outputs": [],
   "source": [
    "karbon = Grunnstoff(\"6\", \"C\" , \"Karbon\", 12.01, 2.55)\n",
    "litium = Grunnstoff(\"3\", \"Li\", \"Litium\", 6.94, 0.98)\n",
    "fluor = Grunnstoff(\"9\", \"F\", \"Flour\", 18.99, 3.98)\n",
    "brom = Grunnstoff(\"35\", \"Br\", \"Brom\", 79.90, 2.96)\n",
    "klor = Grunnstoff(\"17\", \"Cl\", \"Klor\", 35.45, 3.16)\n",
    "kalium = Grunnstoff(\"19\", \"K\", \"Kalium\", 39.09, 0.82)\n",
    "oksygen = Grunnstoff(\"8\", \"O\", \"Oksygen\", 15.99, 3.44)\n",
    "hydrogen = Grunnstoff(\"1\", \"H\", \"Hydrogen\", 1.008, 2.2)"
   ]
  },
  {
   "cell_type": "markdown",
   "metadata": {},
   "source": [
    "c) Deretter lager jeg en $dict$ med bindingstype og grensene i elektronegativiteten"
   ]
  },
  {
   "cell_type": "code",
   "execution_count": 16,
   "metadata": {},
   "outputs": [],
   "source": [
    "bindinger = {\n",
    "    \"Ionisk\" : 2.0,\n",
    "    \"Mellom Ionisk og Polar Kovalent\" : 1.6,\n",
    "    \"Polar Kovalent\" : 0.5,\n",
    "    \"Mellom Polar og Upolar Kovalent\" : 0.3,\n",
    "    \"Upolar Kovalent\" : 0\n",
    "}"
   ]
  },
  {
   "cell_type": "markdown",
   "metadata": {},
   "source": [
    "Jeg definerer vidrere funksjonen gitt i oppgaven og returnerer hvilken binding det er avhengig av elektronegativiteten. Legger også ved en løkke for det faktum av at bindingstypene med større eller lik tegn mod 0.5 blir 0."
   ]
  },
  {
   "cell_type": "code",
   "execution_count": 28,
   "metadata": {},
   "outputs": [],
   "source": [
    "def bindingstype(grunnstoff1, grunnstoff2):\n",
    "    differanse = abs(grunnstoff1.el_neg - grunnstoff2.el_neg)\n",
    "    for k, v in bindinger.items():\n",
    "        if differanse > v or (differanse == v and v % 0.5 == 0):\n",
    "            return k\n",
    "    "
   ]
  },
  {
   "cell_type": "markdown",
   "metadata": {},
   "source": [
    "d) Til slutt finner vi bindingstypen til saltene oppgitt i oppgaven"
   ]
  },
  {
   "cell_type": "code",
   "execution_count": 29,
   "metadata": {},
   "outputs": [
    {
     "name": "stdout",
     "output_type": "stream",
     "text": [
      "LiF  : Ionisk\n",
      "BrCl : Upolar Kovalent\n",
      "K2O  : Ionisk\n",
      "CH4  : Mellom Polar og Upolar Kovalent\n"
     ]
    }
   ],
   "source": [
    "print(f'LiF  : {bindingstype(litium, fluor)}')\n",
    "print(f'BrCl : {bindingstype(brom, klor)}')\n",
    "print(f'K2O  : {bindingstype(kalium, oksygen)}')\n",
    "print(f'CH4  : {bindingstype(karbon, hydrogen)}')"
   ]
  },
  {
   "cell_type": "code",
   "execution_count": null,
   "metadata": {},
   "outputs": [],
   "source": []
  },
  {
   "cell_type": "code",
   "execution_count": null,
   "metadata": {},
   "outputs": [],
   "source": []
  }
 ],
 "metadata": {
  "kernelspec": {
   "display_name": "Python 3",
   "language": "python",
   "name": "python3"
  },
  "language_info": {
   "codemirror_mode": {
    "name": "ipython",
    "version": 3
   },
   "file_extension": ".py",
   "mimetype": "text/x-python",
   "name": "python",
   "nbconvert_exporter": "python",
   "pygments_lexer": "ipython3",
   "version": "3.7.6"
  }
 },
 "nbformat": 4,
 "nbformat_minor": 4
}
